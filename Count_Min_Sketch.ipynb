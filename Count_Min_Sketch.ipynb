{
 "cells": [
  {
   "cell_type": "code",
   "execution_count": 1,
   "metadata": {
    "collapsed": true
   },
   "outputs": [],
   "source": [
    "import math\n",
    "import random\n",
    "import numpy as np"
   ]
  },
  {
   "cell_type": "code",
   "execution_count": 2,
   "metadata": {
    "collapsed": true
   },
   "outputs": [],
   "source": [
    "n = 10000       #Number of elements in the stream\n",
    "m = 500         #Size of set (0,499) from which elements are randomly and uniformly chosen\n",
    "eps = 0.005     #Error Parameter\n",
    "delta = 0.01    #Confidence"
   ]
  },
  {
   "cell_type": "markdown",
   "metadata": {},
   "source": [
    "* If f_i is the real frequency of an element and fcap_i is the estimated frequency from count-min sketch\n",
    "* f_i <= fcap_i <= f_i + eps*n with probability >= 1-delta\n",
    "\n",
    "* As we need to find the all elements with frequency > 30, we have to keep eps really low\n",
    "\n",
    "* With eps = 0.005, n= 10000 and delta = 0.01\n",
    "* f_i <= fcap_i <= f_i + 50 with probability >= 0.99"
   ]
  },
  {
   "cell_type": "code",
   "execution_count": 3,
   "metadata": {},
   "outputs": [
    {
     "name": "stdout",
     "output_type": "stream",
     "text": [
      "d = 5 and w = 544\n",
      "Table T of shape (5, 544) initialised with 0s\n"
     ]
    }
   ],
   "source": [
    "d = math.ceil(math.log(1/delta))\n",
    "w = math.ceil(math.e/eps)\n",
    "\n",
    "print(\"d = \"+str(d)+\" and w = \"+str(w))\n",
    "\n",
    "T = np.zeros((d,w))\n",
    "print(\"Table T of shape \"+str(T.shape)+\" initialised with 0s\")"
   ]
  },
  {
   "cell_type": "code",
   "execution_count": 4,
   "metadata": {},
   "outputs": [
    {
     "name": "stdout",
     "output_type": "stream",
     "text": [
      "Stream has 10000 randomly and uniformly chosen elements from 0 - 499\n"
     ]
    }
   ],
   "source": [
    "stream = []\n",
    "\n",
    "for i in np.arange(n):\n",
    "    element = random.uniform(0,m-1)\n",
    "    stream.append(int(element))\n",
    "\n",
    "stream = np.array(stream)\n",
    "\n",
    "print(\"Stream has \"+str(stream.size)+ \" randomly and uniformly chosen elements from 0 - \"+str(m-1))"
   ]
  },
  {
   "cell_type": "markdown",
   "metadata": {},
   "source": [
    "* d Hash functions of the form h(x) = ax+b mod w \n",
    "* where a and b are chosen randomly from [0,w-1]\n",
    "* we store the tuples (a,b) in the following list hashFunctions"
   ]
  },
  {
   "cell_type": "code",
   "execution_count": 5,
   "metadata": {},
   "outputs": [
    {
     "name": "stdout",
     "output_type": "stream",
     "text": [
      "Total Hash Functions = 5\n"
     ]
    }
   ],
   "source": [
    "hashFunctions = []\n",
    "for i in np.arange(d):\n",
    "    a = int(random.uniform(0,w-1))\n",
    "    b = int(random.uniform(0,w-1))\n",
    "    hashFunctions.append((a,b))\n",
    "    \n",
    "print(\"Total Hash Functions = \"+str(len(hashFunctions)))\n",
    "\n",
    "def getHashValue(a,b,w,x):\n",
    "    return (a*x + b)%w"
   ]
  },
  {
   "cell_type": "code",
   "execution_count": 6,
   "metadata": {
    "collapsed": true
   },
   "outputs": [],
   "source": [
    "#Process the stream elements one by one and update T \n",
    "\n",
    "for e in stream:\n",
    "    for i in np.arange(d):\n",
    "        (a,b) = hashFunctions[i]\n",
    "        hVal = getHashValue(a,b,w,e)\n",
    "        T[i,hVal]+=1"
   ]
  },
  {
   "cell_type": "code",
   "execution_count": 7,
   "metadata": {},
   "outputs": [],
   "source": [
    "#Finding approximate frequences of elements and storing in hashmap\n",
    "#Elements with fcap > 30 are saved in the list heavyHitters\n",
    "\n",
    "fcap = {}\n",
    "heavyHitters = []\n",
    "\n",
    "for e in np.arange(m):\n",
    "    minVal = 10001\n",
    "    for i in np.arange(d):\n",
    "        (a,b) = hashFunctions[i]\n",
    "        hVal = getHashValue(a,b,w,e)\n",
    "        minVal = min(minVal,T[i,hVal])\n",
    "    if minVal>30:\n",
    "        heavyHitters.append(e)\n",
    "    fcap[e]=minVal"
   ]
  },
  {
   "cell_type": "code",
   "execution_count": 8,
   "metadata": {},
   "outputs": [
    {
     "name": "stdout",
     "output_type": "stream",
     "text": [
      "There are 8 Heavy Hitters with fcap >30\n",
      "Heavy Hitters : [47, 64, 76, 303, 314, 421, 422, 486]\n"
     ]
    }
   ],
   "source": [
    "# Finding the Heavy Hitters\n",
    "\n",
    "print(\"There are \"+str(len(heavyHitters))+\" Heavy Hitters with fcap >30\")\n",
    "print(\"Heavy Hitters : \"+str(heavyHitters))"
   ]
  },
  {
   "cell_type": "code",
   "execution_count": 9,
   "metadata": {},
   "outputs": [
    {
     "name": "stdout",
     "output_type": "stream",
     "text": [
      "Actual Heavy Hitters : [421, 76, 314, 422, 303, 64, 486, 47]\n"
     ]
    }
   ],
   "source": [
    "#Compare with actual frequencies\n",
    "\n",
    "f = {}\n",
    "for e in stream:\n",
    "    if e not in f:\n",
    "        f[e]=1\n",
    "    else:\n",
    "        f[e]+=1\n",
    "\n",
    "actualHeavyHitters = []\n",
    "\n",
    "for e in f.keys():\n",
    "    if f[e]>30:\n",
    "        actualHeavyHitters.append(e)\n",
    "\n",
    "print(\"Actual Heavy Hitters : \"+str(actualHeavyHitters))"
   ]
  }
 ],
 "metadata": {
  "kernelspec": {
   "display_name": "Python 3",
   "language": "python",
   "name": "python3"
  },
  "language_info": {
   "codemirror_mode": {
    "name": "ipython",
    "version": 3
   },
   "file_extension": ".py",
   "mimetype": "text/x-python",
   "name": "python",
   "nbconvert_exporter": "python",
   "pygments_lexer": "ipython3",
   "version": "3.6.1"
  }
 },
 "nbformat": 4,
 "nbformat_minor": 2
}
